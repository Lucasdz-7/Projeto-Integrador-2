{
  "nbformat": 4,
  "nbformat_minor": 0,
  "metadata": {
    "colab": {
      "provenance": [],
      "authorship_tag": "ABX9TyM19XjnNRhWfCymnMiDJckY",
      "include_colab_link": true
    },
    "kernelspec": {
      "name": "python3",
      "display_name": "Python 3"
    },
    "language_info": {
      "name": "python"
    }
  },
  "cells": [
    {
      "cell_type": "markdown",
      "metadata": {
        "id": "view-in-github",
        "colab_type": "text"
      },
      "source": [
        "<a href=\"https://colab.research.google.com/github/Lucasdz-7/Projeto-Integrador-2/blob/main/C%C3%B3digoAPi2.ipynb\" target=\"_parent\"><img src=\"https://colab.research.google.com/assets/colab-badge.svg\" alt=\"Open In Colab\"/></a>"
      ]
    },
    {
      "cell_type": "code",
      "execution_count": 2,
      "metadata": {
        "id": "xaACwBKi9Up2"
      },
      "outputs": [],
      "source": [
        "import pandas as pd\n",
        "!apt-get install git-lfs -qq\n",
        "import os\n",
        "from google.colab import files"
      ]
    },
    {
      "cell_type": "code",
      "source": [
        "# Clonando o repositório do GitHub\n",
        "\n",
        "repo_url = \"https://github.com/Lucasdz-7/Projeto-Integrador-2.git\"\n",
        "repo_dir = \"Projeto-Integrador-2\"\n",
        "\n",
        "if not os.path.exists(repo_dir):\n",
        "    !git clone {repo_url}\n",
        "    %cd {repo_dir}\n",
        "else:\n",
        "    %cd {repo_dir}\n",
        "    !git pull"
      ],
      "metadata": {
        "colab": {
          "base_uri": "https://localhost:8080/"
        },
        "id": "pXRKv3n6kNVH",
        "outputId": "30bc71b7-cd1a-45b5-e39f-54db11e1d221"
      },
      "execution_count": 3,
      "outputs": [
        {
          "output_type": "stream",
          "name": "stdout",
          "text": [
            "/content/Projeto-Integrador-2\n",
            "Already up to date.\n"
          ]
        }
      ]
    },
    {
      "cell_type": "code",
      "source": [
        "!git lfs install\n",
        "!git lfs pull"
      ],
      "metadata": {
        "colab": {
          "base_uri": "https://localhost:8080/"
        },
        "id": "dd0qpIQZkTX1",
        "outputId": "14a7c8b3-0204-4294-c0d7-7cd2ff6c0bb9"
      },
      "execution_count": 4,
      "outputs": [
        {
          "output_type": "stream",
          "name": "stdout",
          "text": [
            "Updated git hooks.\n",
            "Git LFS initialized.\n"
          ]
        }
      ]
    },
    {
      "cell_type": "code",
      "source": [
        "# Criando Dataframes\n",
        "\n",
        "csv_path = \"Dados Base/dados_ibama.csv\"\n",
        "Dados_IBAMA = pd.read_csv(csv_path, low_memory=False, sep=';', encoding='UTF-8')"
      ],
      "metadata": {
        "id": "6nJsuGcBhUYt"
      },
      "execution_count": 5,
      "outputs": []
    },
    {
      "cell_type": "code",
      "source": [
        "Dados_IBAMA.head(10)"
      ],
      "metadata": {
        "id": "mPHo-JuAiw6_"
      },
      "execution_count": null,
      "outputs": []
    },
    {
      "cell_type": "code",
      "source": [
        "# Filtrando para o período entre 2013 - 2023 e ordenando por ordem crescente\n",
        "\n",
        "Dados_IBAMA_2013a2023 = Dados_IBAMA[(Dados_IBAMA[\"Ano\"] >= 2013) & (Dados_IBAMA[\"Ano\"] <= 2023)]\n",
        "Dados_IBAMA_2013a2023 = Dados_IBAMA_2013a2023.sort_values(by='Ano', ascending=True)"
      ],
      "metadata": {
        "id": "wkSW0pcnmBoj"
      },
      "execution_count": 6,
      "outputs": []
    },
    {
      "cell_type": "code",
      "source": [
        "Dados_IBAMA_2013a2023.info()"
      ],
      "metadata": {
        "colab": {
          "base_uri": "https://localhost:8080/"
        },
        "id": "iSwtGfUQislb",
        "outputId": "1e75c02f-dd18-4887-df72-cfb04e08070e"
      },
      "execution_count": 91,
      "outputs": [
        {
          "output_type": "stream",
          "name": "stdout",
          "text": [
            "<class 'pandas.core.frame.DataFrame'>\n",
            "Index: 2941968 entries, 200354 to 281960\n",
            "Data columns (total 16 columns):\n",
            " #   Column                   Dtype \n",
            "---  ------                   ----- \n",
            " 0   CNPJ                     object\n",
            " 1   Razão Social             object\n",
            " 2   Estado                   object\n",
            " 3   Município                object\n",
            " 4   Ano                      int64 \n",
            " 5   Produto                  object\n",
            " 6   Quantidade Transportada  object\n",
            " 7   Unidade de Medida        object\n",
            " 8   Tipo de Transporte       object\n",
            " 9   Tipo de Armazenamento    object\n",
            " 10  Plano de Emergência      object\n",
            " 11  UF - origem              object\n",
            " 12  Município - origem       object\n",
            " 13  UF - destino             object\n",
            " 14  Município - destino      object\n",
            " 15  Situação Cadastral       object\n",
            "dtypes: int64(1), object(15)\n",
            "memory usage: 381.6+ MB\n"
          ]
        }
      ]
    },
    {
      "cell_type": "code",
      "source": [
        "Dados_IBAMA_2013a2023.head(5)"
      ],
      "metadata": {
        "id": "gdjuhHwUpNnx"
      },
      "execution_count": null,
      "outputs": []
    },
    {
      "cell_type": "code",
      "source": [
        "# Removendo todos outros modais, preservando apenas o rodoviário.\n",
        "\n",
        "Dados_IBAMA_teste = Dados_IBAMA_2013a2023.query(\"`Tipo de Transporte` == 'Rodoviário'\")"
      ],
      "metadata": {
        "id": "Mrxb3flcwyWE"
      },
      "execution_count": 7,
      "outputs": []
    },
    {
      "cell_type": "code",
      "source": [
        "# Removendo zeros e valores nulos.\n",
        "\n",
        "Dados_IBAMA_teste = Dados_IBAMA_teste[(Dados_IBAMA_teste != 0).all(axis=1)].dropna()\n",
        "(Dados_IBAMA_teste == 0).sum()"
      ],
      "metadata": {
        "colab": {
          "base_uri": "https://localhost:8080/",
          "height": 586
        },
        "id": "giaxP5LaL8GU",
        "outputId": "904e2129-ba47-4e43-ab53-0be9b3b46b59"
      },
      "execution_count": 8,
      "outputs": [
        {
          "output_type": "execute_result",
          "data": {
            "text/plain": [
              "CNPJ                       0\n",
              "Razão Social               0\n",
              "Estado                     0\n",
              "Município                  0\n",
              "Ano                        0\n",
              "Produto                    0\n",
              "Quantidade Transportada    0\n",
              "Unidade de Medida          0\n",
              "Tipo de Transporte         0\n",
              "Tipo de Armazenamento      0\n",
              "Plano de Emergência        0\n",
              "UF - origem                0\n",
              "Município - origem         0\n",
              "UF - destino               0\n",
              "Município - destino        0\n",
              "Situação Cadastral         0\n",
              "dtype: int64"
            ],
            "text/html": [
              "<div>\n",
              "<style scoped>\n",
              "    .dataframe tbody tr th:only-of-type {\n",
              "        vertical-align: middle;\n",
              "    }\n",
              "\n",
              "    .dataframe tbody tr th {\n",
              "        vertical-align: top;\n",
              "    }\n",
              "\n",
              "    .dataframe thead th {\n",
              "        text-align: right;\n",
              "    }\n",
              "</style>\n",
              "<table border=\"1\" class=\"dataframe\">\n",
              "  <thead>\n",
              "    <tr style=\"text-align: right;\">\n",
              "      <th></th>\n",
              "      <th>0</th>\n",
              "    </tr>\n",
              "  </thead>\n",
              "  <tbody>\n",
              "    <tr>\n",
              "      <th>CNPJ</th>\n",
              "      <td>0</td>\n",
              "    </tr>\n",
              "    <tr>\n",
              "      <th>Razão Social</th>\n",
              "      <td>0</td>\n",
              "    </tr>\n",
              "    <tr>\n",
              "      <th>Estado</th>\n",
              "      <td>0</td>\n",
              "    </tr>\n",
              "    <tr>\n",
              "      <th>Município</th>\n",
              "      <td>0</td>\n",
              "    </tr>\n",
              "    <tr>\n",
              "      <th>Ano</th>\n",
              "      <td>0</td>\n",
              "    </tr>\n",
              "    <tr>\n",
              "      <th>Produto</th>\n",
              "      <td>0</td>\n",
              "    </tr>\n",
              "    <tr>\n",
              "      <th>Quantidade Transportada</th>\n",
              "      <td>0</td>\n",
              "    </tr>\n",
              "    <tr>\n",
              "      <th>Unidade de Medida</th>\n",
              "      <td>0</td>\n",
              "    </tr>\n",
              "    <tr>\n",
              "      <th>Tipo de Transporte</th>\n",
              "      <td>0</td>\n",
              "    </tr>\n",
              "    <tr>\n",
              "      <th>Tipo de Armazenamento</th>\n",
              "      <td>0</td>\n",
              "    </tr>\n",
              "    <tr>\n",
              "      <th>Plano de Emergência</th>\n",
              "      <td>0</td>\n",
              "    </tr>\n",
              "    <tr>\n",
              "      <th>UF - origem</th>\n",
              "      <td>0</td>\n",
              "    </tr>\n",
              "    <tr>\n",
              "      <th>Município - origem</th>\n",
              "      <td>0</td>\n",
              "    </tr>\n",
              "    <tr>\n",
              "      <th>UF - destino</th>\n",
              "      <td>0</td>\n",
              "    </tr>\n",
              "    <tr>\n",
              "      <th>Município - destino</th>\n",
              "      <td>0</td>\n",
              "    </tr>\n",
              "    <tr>\n",
              "      <th>Situação Cadastral</th>\n",
              "      <td>0</td>\n",
              "    </tr>\n",
              "  </tbody>\n",
              "</table>\n",
              "</div><br><label><b>dtype:</b> int64</label>"
            ]
          },
          "metadata": {},
          "execution_count": 8
        }
      ]
    },
    {
      "cell_type": "code",
      "source": [
        "# Apenas unidades de medidas de kg e litros\n",
        "\n",
        "Dados_IBAMA_teste = Dados_IBAMA_teste.query(\n",
        "    \"`Unidade de Medida` in ['Grama', 'kilogramas', 'Litro', 'Metro Cúbico', 'Militro', 'Miligrama', 'Tonelada']\"\n",
        ")"
      ],
      "metadata": {
        "id": "nWaeNNmmhCFr"
      },
      "execution_count": 9,
      "outputs": []
    },
    {
      "cell_type": "code",
      "source": [
        "Dados_IBAMA_teste.head(5)"
      ],
      "metadata": {
        "id": "L-887L7QgRKY"
      },
      "execution_count": null,
      "outputs": []
    },
    {
      "cell_type": "code",
      "source": [
        "print(Dados_IBAMA_teste['Unidade de Medida'].unique())"
      ],
      "metadata": {
        "id": "niW0r2UZkLZP"
      },
      "execution_count": null,
      "outputs": []
    },
    {
      "cell_type": "code",
      "source": [
        "# 🔸 Lista de palavras-chave para filtrar produtos perigosos ou especiais\n",
        "# Inclui:\n",
        "# - Combustíveis e derivados (ex: gasolina, diesel, etanol, GLP, querosene, óleo, lubrificantes)\n",
        "# - Substâncias químicas perigosas (ex: ácidos, nitratos, solventes, cloro, amônia, formaldeído, etc.)\n",
        "# - Termos relacionados a risco (inflamável, tóxico, corrosivo, oxidante, radioativo, explosivo...)\n",
        "# - Resíduos e efluentes industriais (lama, lodo, borra, emulsão, catalisadores, defensivos, fertilizantes químicos)\n",
        "# - Gases e criogênicos (oxigênio, nitrogênio, CO2, gás comprimido, criogênico...)\n",
        "# - Metais pesados e compostos correlatos (mercúrio, chumbo, dicromato, etc.)\n",
        "# - Produtos industriais diversos (tintas, vernizes, betume, adesivos químicos, aditivos, borracha sintética...)\n",
        "\n",
        "palavras_perigosas = [\n",
        "    'gasolina', 'diesel', 'etanol', 'álcool', 'biodiesel', 'combustível',\n",
        "    'querosene', 'gnv', 'gás liquefeito', 'gás natural', 'butano', 'propano',\n",
        "    'glp', 'naphta', 'nafta', 'óleo', 'lubrificante',\n",
        "\n",
        "    'ácido', 'base', 'alcalino', 'hidróxido', 'nitrato', 'peróxido',\n",
        "    'hipoclorito', 'cloro', 'amônia', 'soda cáustica', 'cloreto', 'sulfato',\n",
        "    'fosfato', 'ácetico', 'acético', 'cianeto', 'anidro', 'solvente',\n",
        "    'tolueno', 'xileno', 'benzeno', 'acetona', 'formaldeído', 'fenol',\n",
        "    'butil', 'metanol', 'isopropanol', 'hexano', 'heptano', 'éter',\n",
        "\n",
        "    'inflamável', 'tóxico', 'corrosivo', 'explosivo', 'oxidante',\n",
        "    'radioativo', 'perigoso', 'reativo', 'irritante', 'comburente',\n",
        "    'poluente', 'resíduo perigoso', 'resíduo químico',\n",
        "\n",
        "    'resíduo', 'lama', 'lodo', 'efluente', 'emulsão', 'borra', 'bagaço químico',\n",
        "    'catalisador', 'pesticida', 'herbicida', 'inseticida', 'defensivo',\n",
        "    'fertilizante químico', 'corante industrial', 'pigmento químico',\n",
        "\n",
        "    'oxigênio', 'nitrogênio', 'hélio', 'argônio', 'co2', 'co', 'freon',\n",
        "    'refrigerante', 'criogenico', 'criogênico', 'gás comprimido', 'gás liquefeito',\n",
        "\n",
        "    'mercúrio', 'chumbo', 'cádmio', 'arsênio', 'cobre', 'níquel',\n",
        "    'zinco', 'manganês', 'crômico', 'cromato', 'dicromato',\n",
        "\n",
        "    'betume', 'asfalto', 'tinta', 'verniz', 'cola industrial',\n",
        "    'adesivo químico', 'detergente industrial', 'espessante químico',\n",
        "    'aditivo químico', 'plástico fundido', 'borracha sintética'\n",
        "]\n",
        "\n",
        "mask = Dados_IBAMA_teste['Produto'].str.lower().str.contains('|'.join(palavras_perigosas), na=False)\n",
        "Dados_IBAMA_teste = Dados_IBAMA_teste[mask]\n"
      ],
      "metadata": {
        "id": "WFtU4xJFOHM-"
      },
      "execution_count": null,
      "outputs": []
    },
    {
      "cell_type": "code",
      "source": [
        "contagem_valores = Dados_IBAMA_teste['Produto'].value_counts()\n",
        "print(contagem_valores)\n"
      ],
      "metadata": {
        "id": "jGWqGreBRIbG"
      },
      "execution_count": null,
      "outputs": []
    },
    {
      "cell_type": "code",
      "source": [
        "Dados_IBAMA_teste['Produto'].value_counts().tail(50)\n"
      ],
      "metadata": {
        "id": "mwFvqbPjWpuq"
      },
      "execution_count": null,
      "outputs": []
    },
    {
      "cell_type": "code",
      "source": [
        "\n",
        "# Quantidade original e unidade normalizada\n",
        "qtd = Dados_IBAMA_teste['Quantidade Transportada'].fillna(0)\n",
        "unidade = Dados_IBAMA_teste['Unidade de Medida'].fillna('').str.strip().str.lower()\n",
        "\n",
        "# Cria colunas novas zeradas\n",
        "Dados_IBAMA_teste['qntd_Kg'] = 0.0\n",
        "Dados_IBAMA_teste['qntd_Litros'] = 0.0\n",
        "\n",
        "# ---- Conversão para kg ----\n",
        "mask_kg = unidade.isin(['tonelada', 'kilogramas', 'grama', 'miligrama'])\n",
        "Dados_IBAMA_teste.loc[mask_kg & (unidade == 'tonelada'), 'qntd_Kg'] = qtd * 1000\n",
        "Dados_IBAMA_teste.loc[mask_kg & (unidade == 'kilogramas'), 'qntd_Kg'] = qtd\n",
        "Dados_IBAMA_teste.loc[mask_kg & (unidade == 'grama'), 'qntd_Kg'] = qtd / 1000\n",
        "Dados_IBAMA_teste.loc[mask_kg & (unidade == 'miligrama'), 'qntd_Kg'] = qtd / 1_000_000\n",
        "\n",
        "# ---- Conversão para litros ----\n",
        "mask_litro = unidade.isin(['litro', 'militro', 'metro cúbico'])\n",
        "Dados_IBAMA_teste.loc[mask_litro & (unidade == 'litro'), 'qntd_Litros'] = qtd\n",
        "Dados_IBAMA_teste.loc[mask_litro & (unidade == 'militro'), 'qntd_Litros'] = qtd / 1000\n",
        "Dados_IBAMA_teste.loc[mask_litro & (unidade == 'metro cúbico'), 'qntd_Litros'] = qtd * 1000\n",
        "\n",
        "# Agora, para linhas que não são kg nem litro, as duas colunas ficam 0\n",
        "# Se quiser, você pode colocar np.nan em vez de 0\n",
        "Dados_IBAMA_teste.loc[~(mask_kg | mask_litro), ['qntd_Kg','qntd_Litros']] = np.nan\n",
        "\n",
        "# Visualizar resultado\n",
        "print(Dados_IBAMA_teste[['Quantidade Transportada','Unidade de Medida','qntd_Kg','qntd_Litros']].head(10))\n"
      ],
      "metadata": {
        "id": "wC_ovgCFgh_c"
      },
      "execution_count": null,
      "outputs": []
    },
    {
      "cell_type": "code",
      "source": [
        "Dados_IBAMA_teste.head(10)"
      ],
      "metadata": {
        "id": "Eag_5bTUjSBM"
      },
      "execution_count": null,
      "outputs": []
    }
  ]
}